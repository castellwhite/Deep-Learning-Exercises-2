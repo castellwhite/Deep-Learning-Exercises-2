{
 "cells": [
  {
   "cell_type": "markdown",
   "metadata": {},
   "source": [
    "# Modelos Avanzados de Analisis de datos\n",
    "\n",
    " <img src=\"http://usblogs.pwc.com/emerging-technology/wp-content/uploads/2017/07/deep-learning-900x280.png\" >\n",
    "\n",
    "\n",
    "## Taller 8. TensorFlow\n",
    "### Deep Learning Course\n",
    "\n",
    "\n",
    "Desarrollado por [Sergio Castelblanco](http://www.linkedin.com/in/sergio-castelblanco/)\n",
    "\n",
    "Universidad de los Andes\n",
    "\n",
    "version 3.0 , Octubre 24,  2018"
   ]
  },
  {
   "cell_type": "markdown",
   "metadata": {},
   "source": [
    "# Taller 9. Aprendizaje profundo con TensorFlow \n",
    "\n",
    "Hasta ahora, se ha venido utilizando numpy para construir las redes neuronales profundas. Ahora va a utilizar un paquete especialmente diseñado para implementar las funciones que ha venido implementando paso a paso, bajo un marco de **deep learning** que le permite construir redes nueronales más fácilmente. Hay distintos ejemplos de paquetes abiertos que pueden ser utilizados para el aprendizaje computacional, como por ejemplo TensorFlow, PaddlePaddle, Torch, Caffe, Keras, entre otros, que pueden ser utilizados para su desarrollo de sus proyectos en aprendizaje computacional. Estas bibliotecas pueden acortar los tiempos de desarrollo y programación, junto con una implementación más eficiente de los distintos algoritmos de optimización). \n",
    "\n",
    "Aquí vamos a estudiar la biblioteca TensorFlow: \n",
    "\n",
    "- Inicialización de parámetros\n",
    "- Empezar la sesión\n",
    "- Entrenar algoritmos \n",
    "- Implementar una red neuronal\n",
    "\n",
    "\n",
    "## 1 - Explorando la biblioteca Tensorflow \n",
    "\n",
    "Ejecutando la siguiente celda puede importar la biblioteca:\n"
   ]
  },
  {
   "cell_type": "code",
   "execution_count": 1,
   "metadata": {
    "scrolled": true
   },
   "outputs": [],
   "source": [
    "import math\n",
    "import numpy as np\n",
    "import h5py\n",
    "import matplotlib.pyplot as plt\n",
    "import tensorflow as tf\n",
    "from tensorflow.python.framework import ops\n",
    "from tf_utils import load_dataset, random_mini_batches, convert_to_one_hot, predict\n",
    "\n",
    "%matplotlib inline\n",
    "np.random.seed(1)"
   ]
  },
  {
   "cell_type": "code",
   "execution_count": 2,
   "metadata": {},
   "outputs": [
    {
     "name": "stdout",
     "output_type": "stream",
     "text": [
      "Hola, soy una constante que has definido el ambiente TensorFlow!\n"
     ]
    }
   ],
   "source": [
    "import tensorflow as tf\n",
    "hello = tf.constant('Hola, soy una constante que has definido el ambiente TensorFlow!')\n",
    "sess = tf.Session()\n",
    "print(sess.run(hello).decode())"
   ]
  },
  {
   "cell_type": "markdown",
   "metadata": {},
   "source": [
    "\n",
    "Primero hagamos un recorrido por la biblioteca. Por ejemplo, calculemos la pérdida sobre un ejemplo/patrón dado (36,39).  \n",
    "$$pérdida = \\mathcal{L}(\\hat{y}, y) = (\\hat y^{(i)} - y^{(i)})^2 \\tag{1}$$\n",
    "\n"
   ]
  },
  {
   "cell_type": "code",
   "execution_count": 3,
   "metadata": {},
   "outputs": [
    {
     "name": "stdout",
     "output_type": "stream",
     "text": [
      "La pérdida es de: 9\n"
     ]
    }
   ],
   "source": [
    "y_est = tf.constant(36, name='y_est')            # Define una constante y_est = 36.\n",
    "y = tf.constant(39, name='y')                    # Define y = 39\n",
    "\n",
    "loss = tf.Variable((y - y_est)**2)               # Crea una variable para la pérdida = loss\n",
    "\n",
    "init = tf.global_variables_initializer()         # Cuando se ejecute init (en session.run(init)), la variable loss será incializada\n",
    "                                                 # y lista a ser computada\n",
    "with tf.Session() as session:                    # Crea una sesión e imprime la salida\n",
    "    session.run(init)                            # Inicializa la variables\n",
    "    print('La pérdida es de:',session.run(loss)) # Imprime la pérdida = 3^2"
   ]
  },
  {
   "cell_type": "markdown",
   "metadata": {},
   "source": [
    "Los pasos que hay que seguir para programar en TensorFlow:\n",
    "\n",
    "1. Crear **tensores** (variables) antes de ejecutarlos. \n",
    "2. Programar las operaciones entre los tensores.\n",
    "3. Incializar los tensores. \n",
    "4. Crear una sesión \"Session\". \n",
    "5. Ejecutar la sesión con las operaciones que se deben programar. \n",
    "\n",
    "De esta manera, la variable \"loss\" se definió como una función de otras cantidades, mediante `init=tf.global_variables_initializer()`. Esta función inicializó la variable de pérdida \"loss\", hasta que finalmente se evalúa y se imprime su valor. \n",
    "\n",
    "Ahora, veamos la siguiente celda:"
   ]
  },
  {
   "cell_type": "code",
   "execution_count": 4,
   "metadata": {},
   "outputs": [
    {
     "name": "stdout",
     "output_type": "stream",
     "text": [
      "Tensor(\"Mul:0\", shape=(), dtype=int32)\n"
     ]
    }
   ],
   "source": [
    "a = tf.constant(2)\n",
    "b = tf.constant(10)\n",
    "c = tf.multiply(a,b)\n",
    "print(c)"
   ]
  },
  {
   "cell_type": "markdown",
   "metadata": {},
   "source": [
    "¿Esperaba que la respuesta fuera 20? Nótese que lo que se obtuvo fue un tensor diciendo que el resultado es un tensor que no tiene forma (dimensión), y es de tipo \"int32\". En este sentido, hasta ahora todo lo que ha hecho es definir el ´grafo computacional', pero el comando no se ha ejecutado aún. Para multiplicar los dos números, debe crear la sesión y ejecutarla."
   ]
  },
  {
   "cell_type": "code",
   "execution_count": 5,
   "metadata": {},
   "outputs": [
    {
     "name": "stdout",
     "output_type": "stream",
     "text": [
      "20\n"
     ]
    }
   ],
   "source": [
    "sess = tf.Session()\n",
    "print(sess.run(c))"
   ]
  },
  {
   "cell_type": "markdown",
   "metadata": {},
   "source": [
    "** Recuerde:**\n",
    "\n",
    "- Hay que inicializar las variables, crear una sesión y ejecutar las operaciones dentro de la sesión. \n",
    "\n",
    "- Paso siguiente, debe declarar unos 'placeholders' (ó handles). Estos placeholders son son objetos cuyo valor sólo puede ser especificado después.  \n",
    "\n",
    "Para especificar los valores de un placeholder, puede asignarle valores utilizando un diccionario de entrada (variable `feed_dict`). \n",
    "        \n",
    "\n",
    "En la siguiente celda se ha creado un placeholder para x. De esta manera se le puede pasar un valor numérico tras ejecutar la sesión. "
   ]
  },
  {
   "cell_type": "code",
   "execution_count": 6,
   "metadata": {},
   "outputs": [
    {
     "name": "stdout",
     "output_type": "stream",
     "text": [
      "6\n"
     ]
    }
   ],
   "source": [
    "# Cambia el valor de x en el feed_dict\n",
    "\n",
    "x = tf.placeholder(tf.int64, name = 'x')\n",
    "print(sess.run(2 * x, feed_dict = {x: 3}))\n",
    "sess.close()"
   ]
  },
  {
   "cell_type": "markdown",
   "metadata": {},
   "source": [
    "Fíjese que cuando definió por primera vez `x`, no tuvo que especificar su valor. Un placeholder es simplemente una variable a la cual se le va a asignar un valor más adelante, cuando se ejecute la sesión. De este modo, al ejecutar la sesión es que se le pasa su valor. \n",
    "\n",
    "Lo que está pasando, cuando se especifican las operaciones requeridas para la computación, se le está diciendo a TensorFlow cómo contruir el grafo computacional. Este grafo va a tener algunos placeholders a los que se les asignará un valor después. Cuando se ejecute la sesión, se le está diciendo a TensorFlow que ejecute el grafo computacional."
   ]
  },
  {
   "cell_type": "markdown",
   "metadata": {},
   "source": [
    "### 1.1 - Función lineal\n",
    "\n",
    "Este primer ejercicio consiste en computar la siguiente ecuación: $Y = WX + b$, donde $W$ y $X$ son matrices aleatorias y b es un vector aleatorio. \n",
    "\n",
    "**Ejercicio**: Compute $WX + b$ donde $W, X$, y $b$ son tomados de una distribución Normal. W es de tamaño (4, 3), X es de (3,1) y b es de (4,1). Por ejemplo, una constante X de dimensiones (3,1) se definiría:\n",
    "```python\n",
    "X = tf.constant(np.random.randn(3,1), name = \"X\")\n",
    "\n",
    "```\n",
    "Las siguientes funciones pueden ser de ayuda: \n",
    "- tf.matmul(..., ...) para multiplicación entre matrices\n",
    "- tf.add(..., ...) para suma\n",
    "- np.random.randn(...) para inicialización aleatoria\n"
   ]
  },
  {
   "cell_type": "code",
   "execution_count": 9,
   "metadata": {},
   "outputs": [],
   "source": [
    "# FUNCIÓN A CALIFICAR: linear_function\n",
    "\n",
    "def linear_function():\n",
    "    \"\"\"\n",
    "    Implementa una función lineal: \n",
    "            Inicializa W como un tensor aleatorio de tamaño (4,3)\n",
    "            Inicializa X como un tensor aleatorio de tamaño (3,1)\n",
    "            Inicializa b como un tensor aleatorio de tamaño (4,1)\n",
    "    Output: \n",
    "    result: ejecuta la sesión para Y = WX + b \n",
    "    \"\"\"\n",
    "    \n",
    "    np.random.seed(1)\n",
    "    \n",
    "    ### EMPIEZE EL CÓDIGO AQUÍ ###  (≈ 4 líneas de código)\n",
    "    X = np.random.randn(3,1)\n",
    "    W = np.random.randn(4,3)\n",
    "    b = np.random.randn(4,1)\n",
    "    Y = tf.matmul(W,X)+b\n",
    "    ### TERMINE EL CÓDIGO AQUÍ ###\n",
    "    \n",
    "    # Empieze la sesión usando tf.Session() y ejecútela con sess.run(...) sobre la variable que quiera calcular\n",
    "    \n",
    "    ### EMPIEZE EL CÓDIGO AQUÍ ### \n",
    "    sess = tf.Session()\n",
    "    result = sess.run(Y)\n",
    "    ### TERMINE EL CÓDIGO AQUÍ ###\n",
    "    \n",
    "    # Cierre la sesión\n",
    "    sess.close()\n",
    "\n",
    "    return result"
   ]
  },
  {
   "cell_type": "code",
   "execution_count": 10,
   "metadata": {},
   "outputs": [
    {
     "name": "stdout",
     "output_type": "stream",
     "text": [
      "resultado = [[-2.15657382]\n",
      " [ 2.95891446]\n",
      " [-1.08926781]\n",
      " [-0.84538042]]\n"
     ]
    }
   ],
   "source": [
    "print( \"resultado = \" + str(linear_function()))"
   ]
  },
  {
   "cell_type": "markdown",
   "metadata": {},
   "source": [
    "**Salida esperada**:\n",
    "\n",
    "<table> \n",
    "<tr> \n",
    "<td>\n",
    "**resultado**\n",
    "</td>\n",
    "<td>\n",
    "[[-2.15657382]\n",
    " [ 2.95891446]\n",
    " [-1.08926781]\n",
    " [-0.84538042]]\n",
    "</td>\n",
    "</tr> \n",
    "\n",
    "</table> "
   ]
  },
  {
   "cell_type": "markdown",
   "metadata": {},
   "source": [
    "### 1.2 - Computación del sigmoide \n",
    "Acaba de implementar una función lineal. Tensorflow ofrece una variedad de funciones que suelen utilizarse con redes neuronales como e.g. `tf.sigmoid` y `tf.softmax`. Para este ejercicio compute el sigmoide de un input. \n",
    "\n",
    "Este ejercicio consiste en utilizar una variable placeholder `x`, para que al ejecutar la sesión, utilize el diccionario de entrada para pasar los valores de `z`. Por lo tanto, (i) defina el placeholder `x`, (ii) defina las operaciones requeridas para computar el sigmoide usando `tf.sigmoid`, y finalmente, (iii) ejecute la sesión. \n",
    "\n",
    "** Ejercicio **: Implemente la función sigmoide usando las siguientes funciones: \n",
    "\n",
    "- `tf.placeholder(tf.float32, name = \"...\")`\n",
    "- `tf.sigmoid(...)`\n",
    "- `sess.run(..., feed_dict = {x: z})`\n",
    "\n",
    "\n",
    "Nótese que hay dos manera en las que usualmente se empieza y ejecutan las sesiones en tensorflow: \n",
    "\n",
    "**Modo 1:**\n",
    "```python\n",
    "sess = tf.Session()  # empieza la sesión\n",
    "result = sess.run(..., feed_dict = {...})\n",
    "sess.close() # termina la sesión\n",
    "```\n",
    "**Modo 2:**\n",
    "```python\n",
    "with tf.Session() as sess: \n",
    "    result = sess.run(..., feed_dict = {...})\n",
    "    # se cierra automáticamente\n",
    "```\n"
   ]
  },
  {
   "cell_type": "code",
   "execution_count": 17,
   "metadata": {},
   "outputs": [],
   "source": [
    "# FUNCIÓN A CALIFICAR: sigmoid\n",
    "\n",
    "def sigmoid(z):\n",
    "    \"\"\"\n",
    "    Calcula el sigmoide de z\n",
    "    Input:\n",
    "    z: valor de entrada\n",
    "    Output:\n",
    "    results: sigmoide de z\n",
    "    \"\"\"\n",
    "    \n",
    "    ### EMPIEZE EL CÓDIGO AQUÍ ###  (≈ 4 líneas de código)\n",
    "    # Crear el placeholder para x. Nombrarlo 'x'.\n",
    "    x = tf.placeholder(tf.float32, name = 'x')\n",
    "\n",
    "    # compute sigmoide(x)\n",
    "    sigmoid = tf.sigmoid(x)\n",
    "\n",
    "    # Empiece una sesión, y ejecútela. Utilize el Modo 2 descrito arriba. \n",
    "    # Debe utilizar el feed_dict para pasar el valor de z a x. \n",
    "    with tf.Session() as sess: \n",
    "    # Ejecute la sesión y llame a la salida \"result\"\n",
    "        result = sess.run(sigmoid,feed_dict = {x: z})\n",
    "    \n",
    "    ### TERMINE EL CÓDIGO AQUÍ ###\n",
    "    \n",
    "    return result"
   ]
  },
  {
   "cell_type": "code",
   "execution_count": 18,
   "metadata": {},
   "outputs": [
    {
     "name": "stdout",
     "output_type": "stream",
     "text": [
      "sigmoide(0) = 0.5\n",
      "sigmoide(12) = 0.999994\n"
     ]
    }
   ],
   "source": [
    "print (\"sigmoide(0) = \" + str(sigmoid(0)))\n",
    "print (\"sigmoide(12) = \" + str(sigmoid(12)))"
   ]
  },
  {
   "cell_type": "markdown",
   "metadata": {},
   "source": [
    "**Salida esperada**:\n",
    "\n",
    "<table> \n",
    "<tr> \n",
    "<td>\n",
    "**sigmoide(0)**\n",
    "</td>\n",
    "<td>\n",
    "0.5\n",
    "</td>\n",
    "</tr>\n",
    "<tr> \n",
    "<td>\n",
    "**sigmoide(12)**\n",
    "</td>\n",
    "<td>\n",
    "0.999994\n",
    "</td>\n",
    "</tr> \n",
    "\n",
    "</table> "
   ]
  },
  {
   "cell_type": "markdown",
   "metadata": {},
   "source": [
    "<font color='blue'>\n",
    "**Lo que debe haber aprendido**:\n",
    "1. Crear placeholders\n",
    "2. Especificar el grafo computacional para las operaciones que busca computar\n",
    "3. Crear una sesión\n",
    "4. Ejecutar la sesión, usando un diccionario de entrada (feed-dict), y si es necesario especificar los valores de las variables placeholder. "
   ]
  },
  {
   "cell_type": "markdown",
   "metadata": {},
   "source": [
    "### 1.3 -  Computar la pérdida\n",
    "\n",
    "También se puede usar una función ya especificada para computar la pérdida de la red neuronal. De esta manera, en lugar de tener que programar la función de $a^{[2](i)}$ y $y^{(i)}$ para i=1...m: \n",
    "$$ J = - \\frac{1}{m}  \\sum_{i = 1}^m  \\large ( \\small y^{(i)} \\log a^{ [2] (i)} + (1-y^{(i)})\\log (1-a^{ [2] (i)} )\\large )\\small\\tag{2}$$\n",
    "\n",
    "se puede hacer lo mismo en una línea de código en tensorflow.\n",
    "\n",
    "**Ejercicio**: Implemente la función de pérdida de entropía cruzada, mediante la función: \n",
    "\n",
    "\n",
    "- `tf.nn.sigmoid_cross_entropy_with_logits(logits = ...,  labels = ...)`\n",
    "\n",
    "Su código debe recibir `z`, computar el sigmoide (para obtener `a`) y luego computar la pérdida de entropía cruzada $J$. Esto se puede hacer llamando a `tf.nn.sigmoid_cross_entropy_with_logits`, el cual computa\n",
    "\n",
    "$$- \\frac{1}{m}  \\sum_{i = 1}^m  \\large ( \\small y^{(i)} \\log \\sigma(z^{[2](i)}) + (1-y^{(i)})\\log (1-\\sigma(z^{[2](i)})\\large )\\small\\tag{2}$$\n",
    "\n"
   ]
  },
  {
   "cell_type": "code",
   "execution_count": 29,
   "metadata": {},
   "outputs": [],
   "source": [
    "# FUNCIÓN A CALIFICAR: cost\n",
    "\n",
    "def cost(logits, labels):\n",
    "    \"\"\"\n",
    "    Computa el coste usando entropía cruzada sigmoide\n",
    "    Input:\n",
    "    logits: vector conteniendo z (\"logits\"), la salida de la última unidad lineal (antes de la activación final sigmoide)\n",
    "    labels: vector de etiquetas y (\"labels\", 1 ó 0) \n",
    "    Salida:\n",
    "    cost: ejecuta la sesión del coste (formula (2))\n",
    "    \"\"\"\n",
    "    \n",
    "    ### EMPIEZE EL CÓDIGO AQUÍ ###  \n",
    "    \n",
    "    # Declare los placeholders para \"logits\" (z) y \"labels\" (y) (≈ 2 líneas de código)\n",
    "    z = tf.placeholder(tf.float32, name = 'z')\n",
    "    y = tf.placeholder(tf.float32, name = 'y')\n",
    "    \n",
    "    # Use la función de pérdida (≈ 1 línea de código)\n",
    "    cost = tf.nn.sigmoid_cross_entropy_with_logits(logits=z, labels=y)\n",
    "    \n",
    "    # Empiece la sesión (≈ 1 línea de código). Según el Modo 1.\n",
    "    sess = tf.Session()\n",
    "    \n",
    "    # Ejecute la sesión (≈ 1 línea de código).\n",
    "    cost = sess.run(cost,feed_dict={z: logits, y: labels})\n",
    "    \n",
    "    # Cierre la sesión (≈ 1 línea de código). \n",
    "                       # Termine la sesión\n",
    "    sess.close()\n",
    "    ### TERMINE EL CÓDIGO AQUÍ ###\n",
    "    \n",
    "    return cost"
   ]
  },
  {
   "cell_type": "code",
   "execution_count": 30,
   "metadata": {},
   "outputs": [
    {
     "name": "stdout",
     "output_type": "stream",
     "text": [
      "coste = [ 1.00538719  1.03664076  0.41385433  0.39956617]\n"
     ]
    }
   ],
   "source": [
    "logits = sigmoid(np.array([0.2,0.4,0.7,0.9]))\n",
    "cost = cost(logits, np.array([0,0,1,1]))\n",
    "print (\"coste = \" + str(cost))"
   ]
  },
  {
   "cell_type": "markdown",
   "metadata": {},
   "source": [
    "**Salida esperada**:\n",
    "\n",
    "<table> \n",
    "    <tr> \n",
    "        <td>\n",
    "            **coste**\n",
    "        </td>\n",
    "        <td>\n",
    "        [ 1.00538719  1.03664088  0.41385433  0.39956614]\n",
    "        </td>\n",
    "    </tr>\n",
    "\n",
    "</table>"
   ]
  },
  {
   "cell_type": "markdown",
   "metadata": {},
   "source": [
    "### 1.4 - Codificación de etiquetas de unos\n",
    "\n",
    "Muchas veces en problemas de estimación con aprendizaje computacional o deep learning, puede haber un vector y con valores que vayan de 0 a C-1, donde C es el número de clases. Si C es por ejemplo 3, entonces se puede tener un vector y=(2,1,0,1), donde el primer ejemplo es de la clase 2, el segundo de la 1, el tercero de la 0, y el cuarto de la 1. Esta información se puede codificar de la siguiente manera:\n",
    "\n",
    "$$ Y = \\begin{bmatrix}\n",
    "    0  & 0  & 1 & 0 \\\\\n",
    "    0  & 1 & 0  & 1\\\\\n",
    "    1  & 0 & 0 & 0 \n",
    "\\end{bmatrix}\\;\\;\\; $$\n",
    "\n",
    "A esto se le suele llamar una codificación \"one hot\", porque en la nueva codificación hay exactamente un elemento de cada vector columna que es positivo (igual a 1) o que está \"caliente\" (ó \"hot\"). Para hacer esta conversión en numpy, puede tomar algunas líneas de código. En tensorflow, se puede hacer en una línea: \n",
    "\n",
    "- tf.one_hot(labels, depth, axis) \n",
    "\n",
    "**Ejercicio:** Implemente la función abajo para tomar un vector de etiquetas y el número total de clases $C$, y devolver la nueva codificación. Para hacerlo utilice `tf.one_hot()`. "
   ]
  },
  {
   "cell_type": "code",
   "execution_count": 45,
   "metadata": {},
   "outputs": [],
   "source": [
    "# FUNCIÓN A CALIFICAR: one_hot_matrix\n",
    "\n",
    "def one_hot_matrix(labels, C):\n",
    "    \"\"\"\n",
    "    Crea una matriz donde la i-ésima fila corresponde con la i-ésima clase de la j-ésima columna (j-ésimo ejemplo de entrenamiento)\n",
    "    Input:    \n",
    "    labels: vector con las etiquetas \n",
    "    C: número de clases\n",
    "    Output:\n",
    "    one_hot: matriz con la codificación one hot\n",
    "    \"\"\"\n",
    "    \n",
    "    ### EMPIEZE EL CÓDIGO AQUÍ ### \n",
    "    \n",
    "    # Declare una tf.constant igual a C (depth), y nómbrela 'C'. (≈ 1 línea de código)\n",
    "    C = tf.constant(C, name='C')    \n",
    "    \n",
    "    # Use tf.one_hot, recuerde especificar el eje (\"axis\") (≈ 1 línea de código)\n",
    "    one_hot_matrix = tf.one_hot(labels, C, axis=0)\n",
    "    \n",
    "    # Empieze la sesión (≈ 1 línea de código)\n",
    "    sess = tf.Session()\n",
    "    \n",
    "    # Ejecute la sesión (≈ 1 línea de código)\n",
    "    one_hot = sess.run(one_hot_matrix)\n",
    "    \n",
    "    # Cierre la sesión (≈ 1 línea de código). \n",
    "             # Termine la sesión\n",
    "    sess.close()\n",
    "    ### TERMINE EL CÓDIGO AQUÍ ###\n",
    "    \n",
    "    return one_hot"
   ]
  },
  {
   "cell_type": "code",
   "execution_count": 46,
   "metadata": {},
   "outputs": [
    {
     "name": "stdout",
     "output_type": "stream",
     "text": [
      "one_hot = [[ 0.  0.  0.  1.  0.  0.]\n",
      " [ 1.  0.  0.  0.  0.  1.]\n",
      " [ 0.  1.  0.  0.  1.  0.]\n",
      " [ 0.  0.  1.  0.  0.  0.]]\n"
     ]
    }
   ],
   "source": [
    "labels = np.array([1,2,3,0,2,1])\n",
    "one_hot = one_hot_matrix(labels, C = 4)\n",
    "print (\"one_hot = \" + str(one_hot))"
   ]
  },
  {
   "cell_type": "markdown",
   "metadata": {},
   "source": [
    "**Salida esperada**:\n",
    "\n",
    "<table> \n",
    "    <tr> \n",
    "        <td>\n",
    "            **one_hot**\n",
    "        </td>\n",
    "        <td>\n",
    "        [[ 0.  0.  0.  1.  0.  0.]\n",
    " [ 1.  0.  0.  0.  0.  1.]\n",
    " [ 0.  1.  0.  0.  1.  0.]\n",
    " [ 0.  0.  1.  0.  0.  0.]]\n",
    "        </td>\n",
    "    </tr>\n",
    "\n",
    "</table>\n"
   ]
  },
  {
   "cell_type": "markdown",
   "metadata": {},
   "source": [
    "### 1.5 - Inicialización con ceros y unos\n",
    "\n",
    "Ahora va a inicializar un vector con ceros y unos. La función que debe utilizar para inicializar con unos es `tf.ones()`. Para inicializar con ceros puede usar tf.zeros(). Estas funciones reciben las dimensiones y devuelven un arreglo de las dimensiones especificadas de unos  o ceros. \n",
    "\n",
    "**Ejercicio:** Implemente la función abajo que tome unas dimensiones y devuelva un arreglo con esas dimensiones de unos. Utilice: \n",
    " - tf.ones(shape)\n"
   ]
  },
  {
   "cell_type": "code",
   "execution_count": 47,
   "metadata": {},
   "outputs": [],
   "source": [
    "# FUNCIÓN A CALIFICAR: ones\n",
    "\n",
    "def ones(shape):\n",
    "    \"\"\"\n",
    "    Crea un arreglo de unos de dimensión \"shape\"\n",
    "    Input:\n",
    "    shape: dimensiones del arreglo que se quiere crear\n",
    "    Output:\n",
    "    ones: arreglo de unos\n",
    "    \"\"\"\n",
    "    \n",
    "    ### EMPIEZE EL CÓDIGO AQUÍ ### \n",
    "    \n",
    "    # Crea un tensor de \"unos\" usando tf.ones(...). (≈ 1 línea de código)\n",
    "    ones = tf.ones(shape)\n",
    "    \n",
    "    # Empieza la sesión (≈ 1 línea de código)\n",
    "    sess = tf.Session()\n",
    "    \n",
    "    # Ejecuta la sesión para computar 'ones' (≈ 1 línea de código)\n",
    "    ones = sess.run(ones)\n",
    "    \n",
    "    # Cierra la sesión (≈ 1 línea de código). \n",
    "             # Termine la sesión\n",
    "    sess.close()\n",
    "    ### TERMINE EL CÓDIGO AQUÍ ###\n",
    "    return ones"
   ]
  },
  {
   "cell_type": "code",
   "execution_count": 48,
   "metadata": {},
   "outputs": [
    {
     "name": "stdout",
     "output_type": "stream",
     "text": [
      "unos = [ 1.  1.  1.]\n"
     ]
    }
   ],
   "source": [
    "print (\"unos = \" + str(ones([3])))"
   ]
  },
  {
   "cell_type": "markdown",
   "metadata": {},
   "source": [
    "**Salida esperada**:\n",
    "\n",
    "<table> \n",
    "    <tr> \n",
    "        <td>\n",
    "            **unos**\n",
    "        </td>\n",
    "        <td>\n",
    "        [ 1.  1.  1.]\n",
    "        </td>\n",
    "    </tr>\n",
    "\n",
    "</table>"
   ]
  },
  {
   "cell_type": "markdown",
   "metadata": {},
   "source": [
    "# 2 - Desarrollo de una red neuronal en tensorflow\n",
    "\n",
    "En esta parte del taller va a construir una red neuronal usando tensorflow. Recuerde que hay dos partes que debe implementar en tensorflow:\n",
    "\n",
    "- Crear el grafo computacional\n",
    "- Ejecutar el grafo\n",
    "\n",
    "\n",
    "### 2.0 - Enunciado del problema: Identificación de signos\n",
    "\n",
    "El propósito es el de identificar lenguage de signos. En primera instancia, el problema se simplifica para consturir un modelo de red neuronal que facilite la comunicación por signos para cantidades de 0 a 5.\n",
    "\n",
    "- **Conjunto de entrenamiento**: 1080 imagenes (de 64 x 64 pixeles) de signos representando números de 0 a 5 (180 imagenes por número).\n",
    "- **Conjunto de prueba**: 120 imagenes (de 64 x 64 pixeles) de signos representando números de 0 a 5 (20 imágenes por número).\n",
    "\n",
    "\n",
    "Ejecute el siguiente código para cargar el conjunto de datos."
   ]
  },
  {
   "cell_type": "code",
   "execution_count": 51,
   "metadata": {},
   "outputs": [],
   "source": [
    "# Carga de datos\n",
    "X_train_orig, Y_train_orig, X_test_orig, Y_test_orig, classes = load_dataset()"
   ]
  },
  {
   "cell_type": "markdown",
   "metadata": {},
   "source": [
    "Explore los ejemplos del conjunto de datos por medio del índice."
   ]
  },
  {
   "cell_type": "code",
   "execution_count": 95,
   "metadata": {},
   "outputs": [
    {
     "name": "stdout",
     "output_type": "stream",
     "text": [
      "y = 0\n"
     ]
    },
    {
     "data": {
      "image/png": "[encoded data removed]",
      "text/plain": [
       "<Figure size 432x288 with 1 Axes>"
      ]
     },
     "metadata": {},
     "output_type": "display_data"
    }
   ],
   "source": [
    "# Ejemplo de una imagen\n",
    "index = 1\n",
    "plt.imshow(X_train_orig[index])\n",
    "print (\"y = \" + str(np.squeeze(Y_train_orig[:, index])))"
   ]
  },
  {
   "cell_type": "markdown",
   "metadata": {},
   "source": [
    "Como es usual, se debe aplanar el conjunto de datos, y luego normalizar dividiendo por 255. Además, cada etiqueta se debe re-codificar a un vector one-hot. Ejecute la celda abajo para hacerlo."
   ]
  },
  {
   "cell_type": "code",
   "execution_count": 53,
   "metadata": {},
   "outputs": [
    {
     "name": "stdout",
     "output_type": "stream",
     "text": [
      "Número de ejemplos de entrenamiento = 1080\n",
      "Número de ejemplos de prueba = 120\n",
      "Tamaño de X_train: (12288, 1080)\n",
      "Tamaño de Y_train: (6, 1080)\n",
      "Tamaño de X_test: (12288, 120)\n",
      "Tamaño de Y_test: (6, 120)\n"
     ]
    }
   ],
   "source": [
    "# Aplana la imagenes\n",
    "X_train_flatten = X_train_orig.reshape(X_train_orig.shape[0], -1).T\n",
    "X_test_flatten = X_test_orig.reshape(X_test_orig.shape[0], -1).T\n",
    "\n",
    "# Normaliza los datos\n",
    "X_train = X_train_flatten/255.\n",
    "X_test = X_test_flatten/255.\n",
    "\n",
    "# Convierte las etiquetas a matrices one-hot\n",
    "Y_train = convert_to_one_hot(Y_train_orig, 6)\n",
    "Y_test = convert_to_one_hot(Y_test_orig, 6)\n",
    "\n",
    "print (\"Número de ejemplos de entrenamiento = \" + str(X_train.shape[1]))\n",
    "print (\"Número de ejemplos de prueba = \" + str(X_test.shape[1]))\n",
    "print (\"Tamaño de X_train: \" + str(X_train.shape))\n",
    "print (\"Tamaño de Y_train: \" + str(Y_train.shape))\n",
    "print (\"Tamaño de X_test: \" + str(X_test.shape))\n",
    "print (\"Tamaño de Y_test: \" + str(Y_test.shape))"
   ]
  },
  {
   "cell_type": "markdown",
   "metadata": {},
   "source": [
    "Fíjese que el 12288 obedece a que $64 \\times 64 \\times 3 = 12288$. Cada imagen es cuadrada, de 64 x 64 pixeles, y el 3 es por los canales RGB. Asegúrese de entender las dimensiones de los datos."
   ]
  },
  {
   "cell_type": "markdown",
   "metadata": {},
   "source": [
    "**Objetivo:** \n",
    "Construir un modelo que reconozca un signo con buena precisión. Para hacerlo, construya un modelo de tensorflow que va a seguir la misma estructura de los modelos que ya ha implementado antes para el reconocimiento de gatos, pero utilizando una capa de salida softmax. Así puede comparar los resultados obtenidos con numpy y los que va a obtener con tensorflow. \n",
    "\n",
    "**Estructura de la red:** \n",
    "El modelo de red va a ser *LINEAL -> RELU -> LINEAL -> RELU -> LINEAL -> SOFTMAX*. De esta manera, la capa de salida SIGMOIDE es convertida en una SOFTMAX. La capa SOFTMAX generaliza la SIGMOIDE para cuando hay más de dos clases. "
   ]
  },
  {
   "cell_type": "markdown",
   "metadata": {},
   "source": [
    "### 2.1 - Crear placeholders\n",
    "\n",
    "Primero debe crear los placeholders para `X` e `Y`. Luego podrá pasar los datos de entrenamiento cuando ejecute la sesión.\n",
    "\n",
    "**Ejercicio:** \n",
    "Implemente la función abajo para crear los placeholders en tensorflow."
   ]
  },
  {
   "cell_type": "code",
   "execution_count": 56,
   "metadata": {},
   "outputs": [],
   "source": [
    "# FUNCIÓN A CALIFICAR: create_placeholders\n",
    "\n",
    "def create_placeholders(n_x, n_y):\n",
    "    \"\"\"\n",
    "    Crea los placeholders para la sesión de tensorflow.\n",
    "    Input:\n",
    "    n_x: tamaño del vector de imagen (num_px * num_px = 64 * 64 * 3 = 12288)\n",
    "    n_y: número de clases (de 0 a 5, así que C=6)\n",
    "    Output:\n",
    "    X: placeholder para los datos de entrada, de tamaño [n_x, None] y de tipo \"float\"\n",
    "    Y: placeholder para las etiquetas, de tamaño [n_y, None] y tipo \"float\"\n",
    "    Utiliza None porque permite flexibilidad a la hora de especificar el número de ejmplos para los placeholders.\n",
    "    \"\"\"\n",
    "\n",
    "    ### EMPIEZE EL CÓDIGO AQUÍ ### (≈ 2 líneas de código)\n",
    "    X = tf.placeholder(\"float\", [n_x, None])\n",
    "    Y = tf.placeholder(\"float\", [n_y, None])\n",
    "    ### TERMINE EL CÓDIGO AQUÍ ###\n",
    "    \n",
    "    return X, Y"
   ]
  },
  {
   "cell_type": "code",
   "execution_count": 57,
   "metadata": {},
   "outputs": [
    {
     "name": "stdout",
     "output_type": "stream",
     "text": [
      "X = Tensor(\"Placeholder:0\", shape=(12288, ?), dtype=float32)\n",
      "Y = Tensor(\"Placeholder_1:0\", shape=(6, ?), dtype=float32)\n"
     ]
    }
   ],
   "source": [
    "X, Y = create_placeholders(12288, 6)\n",
    "print (\"X = \" + str(X))\n",
    "print (\"Y = \" + str(Y))"
   ]
  },
  {
   "cell_type": "markdown",
   "metadata": {},
   "source": [
    "**Salida esperada**:\n",
    "\n",
    "<table> \n",
    "    <tr> \n",
    "        <td>\n",
    "            **X**\n",
    "        </td>\n",
    "        <td>\n",
    "        Tensor(\"Placeholder_1:0\", shape=(12288, ?), dtype=float32) (not necessarily Placeholder_1)\n",
    "        </td>\n",
    "    </tr>\n",
    "    <tr> \n",
    "        <td>\n",
    "            **Y**\n",
    "        </td>\n",
    "        <td>\n",
    "        Tensor(\"Placeholder_2:0\", shape=(6, ?), dtype=float32) (not necessarily Placeholder_2)\n",
    "        </td>\n",
    "    </tr>\n",
    "\n",
    "</table>"
   ]
  },
  {
   "cell_type": "markdown",
   "metadata": {},
   "source": [
    "### 2.2 - Inicialización de los parámetros\n",
    "\n",
    "La segunda tarea es la de inicializar los parámetros en tensorflow.\n",
    "\n",
    "**Ejercicio:** \n",
    "Implemente la función abajo para inicializar los parámetros en tensorflow. Va a utilizar la inicialización de Xavier para los pesos, y los sesgos se inicializan con ceros. Los tamaños están dados. Por ejemplo, para W1 y b1 puede utilizar: \n",
    "\n",
    "```python\n",
    "W1 = tf.get_variable(\"W1\", [25,12288], initializer = tf.contrib.layers.xavier_initializer(seed = 1))\n",
    "b1 = tf.get_variable(\"b1\", [25,1], initializer = tf.zeros_initializer())\n",
    "```\n",
    "Utilize `seed = 1` para replicar los resultados."
   ]
  },
  {
   "cell_type": "code",
   "execution_count": 105,
   "metadata": {},
   "outputs": [],
   "source": [
    "# FUNCIÓN A CALIFICAR: initialize_parameters\n",
    "\n",
    "def initialize_parameters():\n",
    "    \"\"\"\n",
    "    Inicializa los parámetros para construir una red neuronal con tensorflow. \n",
    "    Las dimensiones son:\n",
    "                        W1 : [25, 12288]\n",
    "                        b1 : [25, 1]\n",
    "                        W2 : [12, 25]\n",
    "                        b2 : [12, 1]\n",
    "                        W3 : [6, 12]\n",
    "                        b3 : [6, 1]\n",
    "    Output:\n",
    "    parameters: diccionario con tensores conteniendo W1, b1, W2, b2, W3, b3\n",
    "    \"\"\"\n",
    "    \n",
    "    tf.set_random_seed(1)                   # para la replicabilidad\n",
    "        \n",
    "    ### EMPIEZE EL CÓDIGO AQUÍ ### (≈ 6 líneas de código)\n",
    "    W1 = tf.get_variable(\"W1\", [25,12288], initializer = tf.contrib.layers.xavier_initializer(seed = 1))\n",
    "    b1 = tf.get_variable(\"b1\", [25,1], initializer = tf.zeros_initializer())\n",
    "    W2 = tf.get_variable(\"W2\", [12,25], initializer = tf.contrib.layers.xavier_initializer(seed = 1))\n",
    "    b2 = tf.get_variable(\"b2\", [12,1], initializer = tf.zeros_initializer())\n",
    "    W3 = tf.get_variable(\"W3\", [6,12], initializer = tf.contrib.layers.xavier_initializer(seed = 1))\n",
    "    b3 = tf.get_variable(\"b3\", [6,1], initializer = tf.zeros_initializer())\n",
    "    ### TERMINE EL CÓDIGO AQUÍ ###\n",
    "\n",
    "    parameters = {\"W1\": W1,\n",
    "                  \"b1\": b1,\n",
    "                  \"W2\": W2,\n",
    "                  \"b2\": b2,\n",
    "                  \"W3\": W3,\n",
    "                  \"b3\": b3}\n",
    "    \n",
    "    return parameters"
   ]
  },
  {
   "cell_type": "code",
   "execution_count": 106,
   "metadata": {},
   "outputs": [
    {
     "name": "stdout",
     "output_type": "stream",
     "text": [
      "W1 = <tf.Variable 'W1:0' shape=(25, 12288) dtype=float32_ref>\n",
      "b1 = <tf.Variable 'b1:0' shape=(25, 1) dtype=float32_ref>\n",
      "W2 = <tf.Variable 'W2:0' shape=(12, 25) dtype=float32_ref>\n",
      "b2 = <tf.Variable 'b2:0' shape=(12, 1) dtype=float32_ref>\n"
     ]
    }
   ],
   "source": [
    "tf.reset_default_graph()\n",
    "with tf.Session() as sess:\n",
    "    parameters = initialize_parameters()\n",
    "    print(\"W1 = \" + str(parameters[\"W1\"]))\n",
    "    print(\"b1 = \" + str(parameters[\"b1\"]))\n",
    "    print(\"W2 = \" + str(parameters[\"W2\"]))\n",
    "    print(\"b2 = \" + str(parameters[\"b2\"]))"
   ]
  },
  {
   "cell_type": "markdown",
   "metadata": {},
   "source": [
    "**Salida esperada**:\n",
    "\n",
    "<table> \n",
    "    <tr> \n",
    "        <td>\n",
    "            **W1**\n",
    "        </td>\n",
    "        <td>\n",
    "         < tf.Variable 'W1:0' shape=(25, 12288) dtype=float32_ref >\n",
    "        </td>\n",
    "    </tr>\n",
    "    <tr> \n",
    "        <td>\n",
    "            **b1**\n",
    "        </td>\n",
    "        <td>\n",
    "        < tf.Variable 'b1:0' shape=(25, 1) dtype=float32_ref >\n",
    "        </td>\n",
    "    </tr>\n",
    "    <tr> \n",
    "        <td>\n",
    "            **W2**\n",
    "        </td>\n",
    "        <td>\n",
    "        < tf.Variable 'W2:0' shape=(12, 25) dtype=float32_ref >\n",
    "        </td>\n",
    "    </tr>\n",
    "    <tr> \n",
    "        <td>\n",
    "            **b2**\n",
    "        </td>\n",
    "        <td>\n",
    "        < tf.Variable 'b2:0' shape=(12, 1) dtype=float32_ref >\n",
    "        </td>\n",
    "    </tr>\n",
    "\n",
    "</table>"
   ]
  },
  {
   "cell_type": "markdown",
   "metadata": {},
   "source": [
    "### 2.3 - Propagación hacia delante en tensorflow \n",
    "\n",
    "Ahora va a implementar la propagación hacia delante en tensorflow. La función toma de entrada un diccionario de parámetros y completa una iteración hacia delante. Utilice las funciones: \n",
    "\n",
    "- `tf.add(...,...)` para suma\n",
    "- `tf.matmul(...,...)` para multiplicación matricial\n",
    "- `tf.nn.relu(...)` para la activación ReLU\n",
    "\n",
    "**Problema:** \n",
    "Implemente la propagación hacia delante. Puede comparar el código con el equivalente de numpy. Fíjese que la propagación hacia delante en este caso se detiene en `z3`. Esto es porque en tensorflow la capa de salida es dada como input de la función que computa la pérdida. Por lo tanto no se computa `a3`.\n",
    "\n"
   ]
  },
  {
   "cell_type": "code",
   "execution_count": 69,
   "metadata": {},
   "outputs": [],
   "source": [
    "# FUNCIÓN A CALIFICAR: forward_propagation\n",
    "\n",
    "def forward_propagation(X, parameters):\n",
    "    \"\"\"\n",
    "    Implementa la propagación hacia delante para el modelo: LINEAL -> RELU -> LINEAL -> RELU -> LINEAL -> SOFTMAX\n",
    "    Input:\n",
    "    X: placeholder para el conjunto de entrada, de tamaño (tamaño de entrada, número de ejemplos)\n",
    "    parameters: diccionario python con los parámetros \"W1\", \"b1\", \"W2\", \"b2\", \"W3\", \"b3\" con dimensiones dadas en initialize_parameters\n",
    "    Output:\n",
    "    Z3: salida de la última unidad LINEAL\n",
    "    \"\"\"\n",
    "    \n",
    "    # Recupere los parámetros del diccionario \"parameters\" \n",
    "    W1 = parameters['W1']\n",
    "    b1 = parameters['b1']\n",
    "    W2 = parameters['W2']\n",
    "    b2 = parameters['b2']\n",
    "    W3 = parameters['W3']\n",
    "    b3 = parameters['b3']\n",
    "    \n",
    "    ### EMPIEZE EL CÓDIGO AQUÍ ### (≈ 5 líneas de código)             # Equivalentes numpy:\n",
    "    Z1 =tf.add(tf.matmul(W1,X),b1)                                    # Z1 = np.dot(W1, X) + b1\n",
    "    A1 =tf.nn.relu(Z1)                                                # A1 = relu(Z1)\n",
    "    Z2 =tf.add(tf.matmul(W2,A1),b2)                                    # Z2 = np.dot(W2, a1) + b2\n",
    "    A2 =tf.nn.relu(Z2)                                                              # A2 = relu(Z2)\n",
    "    Z3 =tf.add(tf.matmul(W3,A2),b3)                                                            # Z3 = np.dot(W3,Z2) + b3\n",
    "    ### TERMINE EL CÓDIGO AQUÍ ###\n",
    "    \n",
    "    return Z3"
   ]
  },
  {
   "cell_type": "code",
   "execution_count": 70,
   "metadata": {
    "scrolled": true
   },
   "outputs": [
    {
     "name": "stdout",
     "output_type": "stream",
     "text": [
      "Z3 = Tensor(\"Add_2:0\", shape=(6, ?), dtype=float32)\n"
     ]
    }
   ],
   "source": [
    "tf.reset_default_graph()\n",
    "\n",
    "with tf.Session() as sess:\n",
    "    X, Y = create_placeholders(12288, 6)\n",
    "    parameters = initialize_parameters()\n",
    "    Z3 = forward_propagation(X, parameters)\n",
    "    print(\"Z3 = \" + str(Z3))"
   ]
  },
  {
   "cell_type": "markdown",
   "metadata": {},
   "source": [
    "**Salida esperada**: \n",
    "\n",
    "<table> \n",
    "    <tr> \n",
    "        <td>\n",
    "            **Z3**\n",
    "        </td>\n",
    "        <td>\n",
    "        Tensor(\"Add_2:0\", shape=(6, ?), dtype=float32)\n",
    "        </td>\n",
    "    </tr>\n",
    "\n",
    "</table>"
   ]
  },
  {
   "cell_type": "markdown",
   "metadata": {},
   "source": [
    "### 2.4 Calcule el coste\n",
    "\n",
    "Como ya se ha visto, el coste se compute mediante:\n",
    "```python\n",
    "tf.reduce_mean(tf.nn.softmax_cross_entropy_with_logits(logits = ..., labels = ...))\n",
    "```\n",
    "**Problema**: \n",
    "Implemente la función de coste. \n",
    "- Fíjese que las entradas de \"`logits`\" y \"`labels`\" para `tf.nn.softmax_cross_entropy_with_logits` deben tener dimensiones (número de ejemplos, número de clases). Por ello se han transpuesto Z3 e Y.\n",
    "- Además, `tf.reduce_mean` hace la suma sobre todos los ejemplos."
   ]
  },
  {
   "cell_type": "code",
   "execution_count": 88,
   "metadata": {},
   "outputs": [],
   "source": [
    "# FUNCIÓN A CALIFICAR: compute_cost \n",
    "\n",
    "def compute_cost(Z3, Y):\n",
    "    \"\"\"\n",
    "    Calcula el coste\n",
    "    Input:\n",
    "    Z3: salida de la propagación hacia delante (salida de la última unidad lineal), de tamaño (6, número de ejemplos)\n",
    "    Y: vector placeholder de etiquetas, mismo tamaño que Z3\n",
    "    Output:\n",
    "    cost: tensor de la función de coste\n",
    "    \"\"\"\n",
    "    \n",
    "    # para ajustarse a los requerimientos de la función tf.nn.softmax_cross_entropy_with_logits(...,...)\n",
    "    logits = tf.transpose(Z3)\n",
    "    labels = tf.transpose(Y)\n",
    "        \n",
    "    ### EMPIEZE EL CÓDIGO AQUÍ ### (≈ 1 línea de código)\n",
    "    cost = tf.reduce_mean(tf.nn.softmax_cross_entropy_with_logits(logits = logits\n",
    "                                                                , labels = labels))\n",
    "    ### TERMINE EL CÓDIGO AQUÍ ###\n",
    "    \n",
    "    return cost"
   ]
  },
  {
   "cell_type": "code",
   "execution_count": 89,
   "metadata": {},
   "outputs": [
    {
     "name": "stdout",
     "output_type": "stream",
     "text": [
      "coste = Tensor(\"Mean:0\", shape=(), dtype=float32)\n"
     ]
    }
   ],
   "source": [
    "tf.reset_default_graph()\n",
    "\n",
    "with tf.Session() as sess:\n",
    "    X, Y = create_placeholders(12288, 6)\n",
    "    parameters = initialize_parameters()\n",
    "    Z3 = forward_propagation(X, parameters)\n",
    "    cost = compute_cost(Z3, Y)\n",
    "    print(\"coste = \" + str(cost))"
   ]
  },
  {
   "cell_type": "markdown",
   "metadata": {},
   "source": [
    "**Salida esperada**:\n",
    "\n",
    "<table> \n",
    "    <tr> \n",
    "        <td>\n",
    "            **coste**\n",
    "        </td>\n",
    "        <td>\n",
    "        Tensor(\"Mean:0\", shape=(), dtype=float32)\n",
    "        </td>\n",
    "    </tr>\n",
    "\n",
    "</table>"
   ]
  },
  {
   "cell_type": "markdown",
   "metadata": {},
   "source": [
    "### 2.5 - Retropropagación y actualización de parámetros\n",
    "\n",
    "1Bajo el ambiente de tensorflow, es mucho más sencillo implementar la retro-propagacion, y la actualización de los parámetros se hace en una linea de código. Tras computar la función de coste, debe crear un objeto \"`optimizer`\". Este objeto debe ser llamado junto con el coste cuando se ejecute la tf.session. Cuando se le llame, desempeñará la optimizacion sobre el coste con el método seleccionado y la tasa de aprendizaje.\n",
    "\n",
    "Por ejemplo, para el G.D. el 'optimizer' sería:\n",
    "```python\n",
    "optimizer = tf.train.GradientDescentOptimizer(learning_rate = learning_rate).minimize(cost)\n",
    "```\n",
    "\n",
    "Para desempeñar la optimización puede hacer:\n",
    "```python\n",
    "_ , c = sess.run([optimizer, cost], feed_dict={X: minibatch_X, Y: minibatch_Y})\n",
    "```\n",
    "\n",
    "Esta linea computa la retro-propagación, pasando por el grafo de tensorflow en dirección hacia atrás. \n",
    "\n",
    "Fíjese que al codificar, se hace uso de `_` como una variable temporal/auxiliar para almacenar valores que no se van a utilizar después. De este modo, `_` toma la evaluación de `optimizer`, que no va a ser utilizada luego (y `c` toma el valor de la variable `cost`). "
   ]
  },
  {
   "cell_type": "markdown",
   "metadata": {},
   "source": [
    "### 2.6 - Construcción del modelo\n",
    "\n",
    "En la siguiente función se juntan las funciones implementadas previamente, en el orden correcto.\n"
   ]
  },
  {
   "cell_type": "code",
   "execution_count": 143,
   "metadata": {},
   "outputs": [],
   "source": [
    "def model(X_train, Y_train, X_test, Y_test, learning_rate = 0.001,\n",
    "          num_epochs = 1500, minibatch_size = 32, print_cost = True):\n",
    "    \"\"\"\n",
    "    Implementa una red neuronal de tres capas en tensorflow: LINEAL->RELU->LINEAL->RELU->LINEAL->SOFTMAX.\n",
    "    Input:\n",
    "    X_train: conjunto de entranamiento, de dimensiones (dimensión de los patrones = 12288, número de ejemplos = 1080)\n",
    "    Y_train: etiquetas de entrenamiento, de dimensiones (número de clases = 6, número de conjuntos de entrenamiento = 1080)\n",
    "    X_test: conjunto de prueba, de tamaño (dimensión de los patrones = 12288, número de ejemplos = 120)\n",
    "    Y_test: etiquetas de prueba, de dimensiones (número de clases = 6, número de ejemplos = 120)\n",
    "    learning_rate: tasa de aprendizaje de la optimización\n",
    "    num_epochs: número de épocas para el bucle de optimización\n",
    "    minibatch_size: tamaño de los lotes o mini-batches de datos para optimizar\n",
    "    print_cost: si es True muestra el coste cada 100 épocas\n",
    "    Output:\n",
    "    parameters: parametros del modelo.\n",
    "    \"\"\"\n",
    "    \n",
    "    ops.reset_default_graph()                         # para vovler a ajecutar el modelo sin sobre-escribir las variables tf\n",
    "    tf.set_random_seed(1)                             # para replicabilidad\n",
    "    seed = 3                                          # para replicabilidad\n",
    "    (n_x, m) = X_train.shape                          # (n_x: tamaño del input, m : número de ejemplos de entrenamiento)\n",
    "    n_y = Y_train.shape[0]                            # n_y : tamaño de la salida\n",
    "    costs = []                                        # Hacerle seguimiento al coste\n",
    "    \n",
    "    # Crear los placeholders de dimensiones (n_x, n_y)\n",
    "    ### EMPIEZE EL CÓDIGO AQUÍ ### (≈ 1 línea de código)\n",
    "    X, Y = create_placeholders(n_x, n_y)\n",
    "    ### TERMINE EL CÓDIGO AQUÍ ###\n",
    "\n",
    "    # Initializar los parametros\n",
    "    ### EMPIEZE EL CÓDIGO AQUÍ ### (≈ 1 línea de código)\n",
    "    parameters = initialize_parameters()\n",
    "    ### TERMINE EL CÓDIGO AQUÍ ###\n",
    "    \n",
    "    # Propagación hacia delante: Construye la propagación hacia delante en el grafo de tensorflow\n",
    "    ### EMPIEZE EL CÓDIGO AQUÍ ### (≈ 1 línea de código)\n",
    "    Z3 = forward_propagation(X, parameters)\n",
    "    ### TERMINE EL CÓDIGO AQUÍ ###\n",
    "    \n",
    "    # Función de coste: Añade la función de coste al grafo de tensorflow\n",
    "    ### EMPIEZE EL CÓDIGO AQUÍ ### (≈ 1 línea de código)\n",
    "    cost = compute_cost(Z3, Y)\n",
    "    ### TERMINE EL CÓDIGO AQUÍ ###\n",
    "    \n",
    "    # Retro-propagación: Define el método de optimización (\"optimizer\") de tensorflow optimizer. Usar el método de Adam (\"AdamOptimizer\").\n",
    "    ### EMPIEZE EL CÓDIGO AQUÍ ### (≈ 1 línea de código)\n",
    "    optimizer = tf.train.AdamOptimizer(learning_rate = learning_rate).minimize(cost)\n",
    "    ### TERMINE EL CÓDIGO AQUÍ ###\n",
    "    \n",
    "    # Inicialización de las variables\n",
    "    init = tf.global_variables_initializer()\n",
    "\n",
    "    # Empieza la sesión para computar el grafo computacional en tensorflow\n",
    "    with tf.Session() as sess:\n",
    "        \n",
    "        # Ejecute la incialización\n",
    "        sess.run(init)\n",
    "        \n",
    "        # Bucle de entrenamiento\n",
    "        for epoch in range(num_epochs):\n",
    "\n",
    "            epoch_cost = 0.                           # Declara el coste tras cada época\n",
    "            num_minibatches = int(m / minibatch_size) # Número de lotes de datos de tamaño minibatch_size en entrenamiento\n",
    "            seed = seed + 1\n",
    "            minibatches = random_mini_batches(X_train, Y_train, minibatch_size, seed)\n",
    "\n",
    "            for minibatch in minibatches:\n",
    "\n",
    "                # Selecciona una partición de los datos (mini-batch)\n",
    "                (minibatch_X, minibatch_Y) = minibatch\n",
    "                \n",
    "                # Ejecuta la sesión para ejecutar el grafo (optimizador + coste), y mediante el feedict se pasan los valores de la partición (X,Y).\n",
    "                ### EMPIEZE EL CÓDIGO AQUÍ ### (≈ 1 línea de código)\n",
    "                _ , minibatch_cost =  sess.run([optimizer, cost], feed_dict={X: minibatch_X, Y: minibatch_Y})\n",
    "                ### TERMINE EL CÓDIGO AQUÍ ###\n",
    "                \n",
    "                epoch_cost += minibatch_cost / num_minibatches\n",
    "\n",
    "            # Muestra el coste cada 100 épocas\n",
    "            if print_cost == True and epoch % 100 == 0:\n",
    "                print (\"Coste tras la época %i: %f\" % (epoch, epoch_cost))\n",
    "            if print_cost == True and epoch % 5 == 0:\n",
    "                costs.append(epoch_cost)\n",
    "                \n",
    "        # plot the cost\n",
    "        plt.plot(np.squeeze(costs))\n",
    "        plt.ylabel('Coste')\n",
    "        plt.xlabel('Épocas')\n",
    "        plt.title(\"Tasa de aprendizaje =\" + str(learning_rate))\n",
    "        plt.show()\n",
    "\n",
    "        # Se guardan los parámetros en una variable\n",
    "        parameters = sess.run(parameters)\n",
    "        print (\"Los parámetros han sido aprendidos\")\n",
    "\n",
    "        # Predicciones corregidas (el máximo se lo lleva todo)\n",
    "        correct_prediction = tf.equal(tf.argmax(Z3), tf.argmax(Y))\n",
    "\n",
    "        # Precisión en los datos de prueba\n",
    "        accuracy = tf.reduce_mean(tf.cast(correct_prediction, \"float\"))\n",
    "\n",
    "        print (\"Precisión de entrenamiento:\", accuracy.eval({X: X_train, Y: Y_train}))\n",
    "        print (\"Precisión de prueba:\", accuracy.eval({X: X_test, Y: Y_test}))\n",
    "        \n",
    "        return parameters"
   ]
  },
  {
   "cell_type": "markdown",
   "metadata": {},
   "source": [
    "Ejecute la siguiente celda para entrenar el modelo. Esto puede tomar algunos minutos. Revise que el \"Coste tras la época 100\" sea de 0.906227. Si no lo es, interrumpa el proceso dándole a stop (⬛), e intente corregir el código. Si es el coste correcto, tómese un café y vuelva en 5 minutos.."
   ]
  },
  {
   "cell_type": "code",
   "execution_count": 144,
   "metadata": {
    "scrolled": false
   },
   "outputs": [
    {
     "name": "stdout",
     "output_type": "stream",
     "text": [
      "Coste tras la época 0: 1.951921\n",
      "Coste tras la época 100: 0.906227\n",
      "Coste tras la época 200: 0.590556\n",
      "Coste tras la época 300: 0.376403\n",
      "Coste tras la época 400: 0.216020\n",
      "Coste tras la época 500: 0.194917\n",
      "Coste tras la época 600: 0.078889\n",
      "Coste tras la época 700: 0.065299\n",
      "Coste tras la época 800: 0.027469\n",
      "Coste tras la época 900: 0.580531\n",
      "Coste tras la época 1000: 0.309339\n",
      "Coste tras la época 1100: 0.218080\n",
      "Coste tras la época 1200: 0.340674\n",
      "Coste tras la época 1300: 0.099292\n",
      "Coste tras la época 1400: 0.072524\n"
     ]
    },
    {
     "data": {
      "image/png": "[encoded data removed]",
      "text/plain": [
       "<Figure size 432x288 with 1 Axes>"
      ]
     },
     "metadata": {},
     "output_type": "display_data"
    },
    {
     "name": "stdout",
     "output_type": "stream",
     "text": [
      "Los parámetros han sido aprendidos\n",
      "Precisión de entrenamiento: 0.996296\n",
      "Precisión de prueba: 0.733333\n"
     ]
    }
   ],
   "source": [
    "parameters = model(X_train, Y_train, X_test, Y_test)"
   ]
  },
  {
   "cell_type": "markdown",
   "metadata": {},
   "source": [
    "**Salida esperada**:\n",
    "\n",
    "<table> \n",
    "    <tr> \n",
    "        <td>\n",
    "            **Precisión de  entrenamiento**\n",
    "        </td>\n",
    "        <td>\n",
    "        0.996\n",
    "        </td>\n",
    "    </tr>\n",
    "    <tr> \n",
    "        <td>\n",
    "            **Precisión de  prueba**\n",
    "        </td>\n",
    "        <td>\n",
    "        0.733\n",
    "        </td>\n",
    "    </tr>\n",
    "\n",
    "</table>\n",
    "\n"
   ]
  },
  {
   "cell_type": "markdown",
   "metadata": {},
   "source": [
    "Bajo la especificación de la tasa de aprendizaje (0.001) y el número de épocas (1500), el algoritmo reconoce los signos con un 73.3% de precicisón. \n",
    "\n",
    "\n",
    "**Anotaciones**:\n",
    "- El modelo parece ajustar bien los datos de entrenamiento. Sin embargo, dada la diferencia entre entrenamiento y predicción, podría intentar mejorar los resultados mediante regularización, ó cambiando los hiper-parámetros. \n",
    "- Visualize la sesión como un bloque de código para entrenar el modelo. Cada vez que ejecuta la sesión con una partición de datos (mini-batches), se entrenan los parámetros. En total la sesión se ha ejecutado un número grande de veces (1500 épocas) hasta que finalmente se obtienen los parámetros \"bien\" entrenados."
   ]
  },
  {
   "cell_type": "markdown",
   "metadata": {},
   "source": [
    "### 2.7 - Mejore los resultados\n",
    "\n",
    "Aplicando una técnica de regularización, o alguna otra técnica que usted conozca (también puede probar con cambiar algún hiper-parámetro), intente mejorar los resultados y encuentre un modelo que logre una mayor precisión en prueba. \n",
    "\n",
    "Imprima su resultado (precisión de prueba)  y el método que ha utilizado para conseguirlo. Muestre su código a continuación en una nueva celda.\n"
   ]
  },
  {
   "cell_type": "markdown",
   "metadata": {},
   "source": [
    "## Modelo con Regularizacion L2"
   ]
  },
  {
   "cell_type": "markdown",
   "metadata": {},
   "source": [
    "Con el objetivo de mejorar el desempeño de la red neuronal se procede a implementar un metodo de regularizacion L2 y calibracion de hyperparamentos como metodo de optimizacion, numero de epocas y Learning Rate. "
   ]
  },
  {
   "cell_type": "code",
   "execution_count": 114,
   "metadata": {},
   "outputs": [],
   "source": [
    "# GRADED FUNCTION: compute_cost_with_regularization\n",
    "\n",
    "def compute_cost_with_regularization(Z3, Y, parameters, lambd):\n",
    "    \"\"\"\n",
    "    Implement the cost function with L2 regularization. See formula (2) above.\n",
    "    \n",
    "    Arguments:\n",
    "    A3 -- post-activation, output of forward propagation, of shape (output size, number of examples)\n",
    "    Y -- \"true\" labels vector, of shape (output size, number of examples)\n",
    "    parameters -- python dictionary containing parameters of the model\n",
    "    \n",
    "    Returns:\n",
    "    cost - value of the regularized loss function (formula (2))\n",
    "    \"\"\"\n",
    "    X, Y = create_placeholders(n_x, n_y)\n",
    "    m = Y.shape[1]\n",
    "    # Recupere los parámetros del diccionario \"parameters\" \n",
    "    W1 = parameters['W1']\n",
    "    b1 = parameters['b1']\n",
    "    W2 = parameters['W2']\n",
    "    b2 = parameters['b2']\n",
    "    W3 = parameters['W3']\n",
    "    b3 = parameters['b3']\n",
    "    \n",
    "    cross_entropy_cost = compute_cost(Z3, Y) # This gives you the cross-entropy part of the cost\n",
    "    \n",
    "    ### START CODE HERE ### (approx. 1 line)\n",
    "    L2_regularization_cost = lambd * (np.sum(np.square(W1)) + np.sum(np.square(W2)) + np.sum(np.square(W3))) / (2 * m)\n",
    "    ### END CODER HERE ###\n",
    "    \n",
    "    cost = cross_entropy_cost + L2_regularization_cost\n",
    "    \n",
    "    return cost"
   ]
  },
  {
   "cell_type": "code",
   "execution_count": 145,
   "metadata": {},
   "outputs": [],
   "source": [
    "# Escriba aquí su nuevo código e imprima el porcentaje de precisión logrado\n",
    "\n",
    "def model(X_train, Y_train, X_test, Y_test, learning_rate = 0.001,\n",
    "          num_epochs = 2000, minibatch_size = 32, print_cost = True):\n",
    "    \"\"\"\n",
    "    Implementa una red neuronal de tres capas en tensorflow: LINEAL->RELU->LINEAL->RELU->LINEAL->SOFTMAX.\n",
    "    Input:\n",
    "    X_train: conjunto de entranamiento, de dimensiones (dimensión de los patrones = 12288, número de ejemplos = 1080)\n",
    "    Y_train: etiquetas de entrenamiento, de dimensiones (número de clases = 6, número de conjuntos de entrenamiento = 1080)\n",
    "    X_test: conjunto de prueba, de tamaño (dimensión de los patrones = 12288, número de ejemplos = 120)\n",
    "    Y_test: etiquetas de prueba, de dimensiones (número de clases = 6, número de ejemplos = 120)\n",
    "    learning_rate: tasa de aprendizaje de la optimización\n",
    "    num_epochs: número de épocas para el bucle de optimización\n",
    "    minibatch_size: tamaño de los lotes o mini-batches de datos para optimizar\n",
    "    print_cost: si es True muestra el coste cada 100 épocas\n",
    "    Output:\n",
    "    parameters: parametros del modelo.\n",
    "    \"\"\"\n",
    "    beta = 0.001\n",
    "    \n",
    "    ops.reset_default_graph()                         # para vovler a ajecutar el modelo sin sobre-escribir las variables tf\n",
    "    tf.set_random_seed(1)                             # para replicabilidad\n",
    "    seed = 123                                        # para replicabilidad\n",
    "    (n_x, m) = X_train.shape                          # (n_x: tamaño del input, m : número de ejemplos de entrenamiento)\n",
    "    n_y = Y_train.shape[0]                            # n_y : tamaño de la salida\n",
    "    costs = []                                        # Hacerle seguimiento al coste\n",
    "    \n",
    "    # Crear los placeholders de dimensiones (n_x, n_y)\n",
    "    ### EMPIEZE EL CÓDIGO AQUÍ ### (≈ 1 línea de código)\n",
    "    X, Y = create_placeholders(n_x, n_y)\n",
    "    ### TERMINE EL CÓDIGO AQUÍ ###\n",
    "\n",
    "    # Initializar los parametros\n",
    "    ### EMPIEZE EL CÓDIGO AQUÍ ### (≈ 1 línea de código)\n",
    "    parameters = initialize_parameters()\n",
    "    ### TERMINE EL CÓDIGO AQUÍ ###\n",
    "    \n",
    "    # Propagación hacia delante: Construye la propagación hacia delante en el grafo de tensorflow\n",
    "    ### EMPIEZE EL CÓDIGO AQUÍ ### (≈ 1 línea de código)\n",
    "    Z3 = forward_propagation(X, parameters)\n",
    "    ### TERMINE EL CÓDIGO AQUÍ ###\n",
    "    \n",
    "    # Función de coste: Añade la función de coste al grafo de tensorflow\n",
    "    ### EMPIEZE EL CÓDIGO AQUÍ ### (≈ 1 línea de código)\n",
    "    cost = compute_cost(Z3, Y)\n",
    "    ### TERMINE EL CÓDIGO AQUÍ ###\n",
    "    regularizer = tf.nn.l2_loss(parameters[\"W1\"])\n",
    "    cost = tf.reduce_mean(cost + beta * regularizer)\n",
    "    # Retro-propagación: Define el método de optimización (\"optimizer\") de tensorflow optimizer. Usar el método de Adam (\"AdamOptimizer\").\n",
    "    ### EMPIEZE EL CÓDIGO AQUÍ ### (≈ 1 línea de código)\n",
    "    optimizer = tf.train.GradientDescentOptimizer(learning_rate = learning_rate).minimize(cost)\n",
    "    \n",
    "    ### TERMINE EL CÓDIGO AQUÍ ###\n",
    "    \n",
    "    # Inicialización de las variables\n",
    "    init = tf.global_variables_initializer()\n",
    "\n",
    "    # Empieza la sesión para computar el grafo computacional en tensorflow\n",
    "    with tf.Session() as sess:\n",
    "        \n",
    "        # Ejecute la incialización\n",
    "        sess.run(init)\n",
    "        \n",
    "        # Bucle de entrenamiento\n",
    "        for epoch in range(num_epochs):\n",
    "\n",
    "            epoch_cost = 0.                           # Declara el coste tras cada época\n",
    "            num_minibatches = int(m / minibatch_size) # Número de lotes de datos de tamaño minibatch_size en entrenamiento\n",
    "            seed = seed + 1\n",
    "            minibatches = random_mini_batches(X_train, Y_train, minibatch_size, seed)\n",
    "\n",
    "            for minibatch in minibatches:\n",
    "\n",
    "                # Selecciona una partición de los datos (mini-batch)\n",
    "                (minibatch_X, minibatch_Y) = minibatch\n",
    "                \n",
    "                # Ejecuta la sesión para ejecutar el grafo (optimizador + coste), y mediante el feedict se pasan los valores de la partición (X,Y).\n",
    "                ### EMPIEZE EL CÓDIGO AQUÍ ### (≈ 1 línea de código)\n",
    "                _ , minibatch_cost =  sess.run([optimizer, cost], feed_dict={X: minibatch_X, Y: minibatch_Y})\n",
    "                ### TERMINE EL CÓDIGO AQUÍ ###\n",
    "                \n",
    "                epoch_cost += minibatch_cost / num_minibatches\n",
    "\n",
    "            # Muestra el coste cada 100 épocas\n",
    "            if print_cost == True and epoch % 100 == 0:\n",
    "                print (\"Coste tras la época %i: %f\" % (epoch, epoch_cost))\n",
    "            if print_cost == True and epoch % 5 == 0:\n",
    "                costs.append(epoch_cost)\n",
    "                \n",
    "        # plot the cost\n",
    "        plt.plot(np.squeeze(costs))\n",
    "        plt.ylabel('Coste')\n",
    "        plt.xlabel('Épocas')\n",
    "        plt.title(\"Tasa de aprendizaje =\" + str(learning_rate))\n",
    "        plt.show()\n",
    "\n",
    "        # Se guardan los parámetros en una variable\n",
    "        parameters = sess.run(parameters)\n",
    "        print (\"Los parámetros han sido aprendidos\")\n",
    "\n",
    "        # Predicciones corregidas (el máximo se lo lleva todo)\n",
    "        correct_prediction = tf.equal(tf.argmax(Z3), tf.argmax(Y))\n",
    "\n",
    "        # Precisión en los datos de prueba\n",
    "        accuracy = tf.reduce_mean(tf.cast(correct_prediction, \"float\"))\n",
    "\n",
    "        print (\"Precisión de entrenamiento:\", accuracy.eval({X: X_train, Y: Y_train}))\n",
    "        print (\"Precisión de prueba:\", accuracy.eval({X: X_test, Y: Y_test}))\n",
    "        \n",
    "        return parameters\n"
   ]
  },
  {
   "cell_type": "code",
   "execution_count": 146,
   "metadata": {},
   "outputs": [
    {
     "name": "stdout",
     "output_type": "stream",
     "text": [
      "Coste tras la época 0: 1.868007\n",
      "Coste tras la época 100: 1.240121\n",
      "Coste tras la época 200: 0.879577\n",
      "Coste tras la época 300: 0.620699\n",
      "Coste tras la época 400: 0.462837\n",
      "Coste tras la época 500: 0.439063\n",
      "Coste tras la época 600: 0.265656\n",
      "Coste tras la época 700: 0.163229\n",
      "Coste tras la época 800: 0.203668\n",
      "Coste tras la época 900: 0.113553\n",
      "Coste tras la época 1000: 0.088020\n",
      "Coste tras la época 1100: 0.073152\n",
      "Coste tras la época 1200: 0.064202\n",
      "Coste tras la época 1300: 0.059203\n",
      "Coste tras la época 1400: 0.053937\n",
      "Coste tras la época 1500: 0.050801\n",
      "Coste tras la época 1600: 0.048437\n",
      "Coste tras la época 1700: 0.046518\n",
      "Coste tras la época 1800: 0.044625\n",
      "Coste tras la época 1900: 0.043492\n"
     ]
    },
    {
     "data": {
      "image/png": "[encoded data removed]",
      "text/plain": [
       "<Figure size 432x288 with 1 Axes>"
      ]
     },
     "metadata": {},
     "output_type": "display_data"
    },
    {
     "name": "stdout",
     "output_type": "stream",
     "text": [
      "Los parámetros han sido aprendidos\n",
      "Precisión de entrenamiento: 1.0\n",
      "Precisión de prueba: 0.891667\n"
     ]
    }
   ],
   "source": [
    "parameters = model(X_train, Y_train, X_test, Y_test)"
   ]
  },
  {
   "cell_type": "markdown",
   "metadata": {},
   "source": [
    "Se observa que la red neuronal con regularizacion L2 implementada y un cambio en el optimizador (SGD) con 2000 epocas brinda una mejor precision de prueba de 0.891667."
   ]
  },
  {
   "cell_type": "markdown",
   "metadata": {},
   "source": [
    "## Resultados Comparativos"
   ]
  },
  {
   "cell_type": "code",
   "execution_count": 149,
   "metadata": {},
   "outputs": [
    {
     "data": {
      "image/png": "[encoded data removed]",
      "text/plain": [
       "<Figure size 720x504 with 1 Axes>"
      ]
     },
     "metadata": {},
     "output_type": "display_data"
    }
   ],
   "source": [
    "import matplotlib.pyplot as plt\n",
    "plt.figure(figsize=(10,7))\n",
    "plt.bar([\"ANN ORIGINAL \",\"ANN REGULARIZACION\"],[0.7333,0.8916],color=\"orange\",align='center')\n",
    "plt.title(\"COMPARING MODELS\")\n",
    "plt.xlabel(\"MODELS\",fontsize=12)\n",
    "plt.ylabel(\"ACCURACY\")\n",
    "plt.show()"
   ]
  },
  {
   "cell_type": "markdown",
   "metadata": {},
   "source": [
    "<font color='blue'>\n",
    "**Recuerde**:\n",
    "- Tensorflow es una marco de programación muy utilizado en Deep Learning\n",
    "- Hay dos clases de objetos principales en tensorflow: Tensores y Operadores. \n",
    "- Al programar en tensorflow, debe seguir los siguientes pasos:\n",
    "    - Crear un grafo computacional con los tensores (Variables, Placeholders, ...) y Operaciones (tf.matmul, tf.add, ...)\n",
    "    - Crear una sesión\n",
    "    - Inicializar la sesión\n",
    "    - Ejecutar la sesión para ejecutar el grafo\n",
    "- Puede ejecutar el grafo múltiples veces como se ha hecho en model()\n",
    "- La retro-propagación y la optimización se hace automáticamente cuando se ejecuta la sesión sobre el objeto de optimización \"optimizer\"."
   ]
  }
 ],
 "metadata": {
  "coursera": {
   "course_slug": "deep-neural-network",
   "graded_item_id": "BFd89",
   "launcher_item_id": "AH2rK"
  },
  "kernelspec": {
   "display_name": "Python 3",
   "language": "python",
   "name": "python3"
  },
  "language_info": {
   "codemirror_mode": {
    "name": "ipython",
    "version": 3
   },
   "file_extension": ".py",
   "mimetype": "text/x-python",
   "name": "python",
   "nbconvert_exporter": "python",
   "pygments_lexer": "ipython3",
   "version": "3.6.3"
  }
 },
 "nbformat": 4,
 "nbformat_minor": 2
}
